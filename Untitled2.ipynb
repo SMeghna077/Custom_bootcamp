{
 "cells": [
  {
   "cell_type": "code",
   "execution_count": 50,
   "id": "c85c6cce",
   "metadata": {},
   "outputs": [],
   "source": [
    "import keyword\n",
    "from datetime import time\n",
    "import datetime\n",
    "from datetime import datetime"
   ]
  },
  {
   "cell_type": "code",
   "execution_count": 3,
   "id": "f2c1526c",
   "metadata": {},
   "outputs": [
    {
     "data": {
      "text/plain": [
       "['False',\n",
       " 'None',\n",
       " 'True',\n",
       " 'and',\n",
       " 'as',\n",
       " 'assert',\n",
       " 'async',\n",
       " 'await',\n",
       " 'break',\n",
       " 'class',\n",
       " 'continue',\n",
       " 'def',\n",
       " 'del',\n",
       " 'elif',\n",
       " 'else',\n",
       " 'except',\n",
       " 'finally',\n",
       " 'for',\n",
       " 'from',\n",
       " 'global',\n",
       " 'if',\n",
       " 'import',\n",
       " 'in',\n",
       " 'is',\n",
       " 'lambda',\n",
       " 'nonlocal',\n",
       " 'not',\n",
       " 'or',\n",
       " 'pass',\n",
       " 'raise',\n",
       " 'return',\n",
       " 'try',\n",
       " 'while',\n",
       " 'with',\n",
       " 'yield']"
      ]
     },
     "execution_count": 3,
     "metadata": {},
     "output_type": "execute_result"
    }
   ],
   "source": [
    "keyword.kwlist"
   ]
  },
  {
   "cell_type": "code",
   "execution_count": 19,
   "id": "4a431fc1",
   "metadata": {},
   "outputs": [
    {
     "ename": "SyntaxError",
     "evalue": "invalid syntax (3096071187.py, line 4)",
     "output_type": "error",
     "traceback": [
      "\u001b[0;36m  Cell \u001b[0;32mIn[19], line 4\u001b[0;36m\u001b[0m\n\u001b[0;31m    lambda calculate_boyle_temperature( p1, p2, v1):if p2 == 0:return \"Inavalid input\" else:return ((p1*v1)/ p2)\u001b[0m\n\u001b[0m                                      ^\u001b[0m\n\u001b[0;31mSyntaxError\u001b[0m\u001b[0;31m:\u001b[0m invalid syntax\n"
     ]
    }
   ],
   "source": [
    "pa = float (input (\"Enter the initial pressure of the gas\"))\n",
    "va = float(input (\"Enter the initial volume of the gas\"))\n",
    "pb = float (input (\"Enter the final pressure of the gas\"))\n",
    "lambda calculate_boyle_temperature(p1, p2, v1):if p2 == 0:return \"Inavalid input\" else:return ((p1*v1)/ p2)\n",
    "calculate_boyle_temperature(pa, pb, va)"
   ]
  },
  {
   "cell_type": "code",
   "execution_count": 17,
   "id": "9e05a938",
   "metadata": {},
   "outputs": [
    {
     "ename": "NameError",
     "evalue": "name 'vb' is not defined",
     "output_type": "error",
     "traceback": [
      "\u001b[0;31m---------------------------------------------------------------------------\u001b[0m",
      "\u001b[0;31mNameError\u001b[0m                                 Traceback (most recent call last)",
      "Cell \u001b[0;32mIn[17], line 1\u001b[0m\n\u001b[0;32m----> 1\u001b[0m calculate_boyle_temperature(pa, pb, va, vb)\n",
      "\u001b[0;31mNameError\u001b[0m: name 'vb' is not defined"
     ]
    }
   ],
   "source": [
    "calculate_boyle_temperature(pa, pb, va, vb)"
   ]
  },
  {
   "cell_type": "code",
   "execution_count": 30,
   "id": "90fe62bd",
   "metadata": {},
   "outputs": [],
   "source": [
    "def current_datetime():\n",
    "    return date.today()\n",
    "def currenttime():\n",
    "    now = datetime.now()\n",
    "    current_time = now.strftime(\"%H:%M:%S\")\n",
    "    return current_time"
   ]
  },
  {
   "cell_type": "code",
   "execution_count": 37,
   "id": "b7572dd2",
   "metadata": {},
   "outputs": [
    {
     "data": {
      "text/plain": [
       "datetime.date(2023, 9, 19)"
      ]
     },
     "execution_count": 37,
     "metadata": {},
     "output_type": "execute_result"
    }
   ],
   "source": [
    "current_datetime()"
   ]
  },
  {
   "cell_type": "code",
   "execution_count": 51,
   "id": "e9500a25",
   "metadata": {},
   "outputs": [
    {
     "ename": "AttributeError",
     "evalue": "type object 'datetime.time' has no attribute 'mktime'",
     "output_type": "error",
     "traceback": [
      "\u001b[0;31m---------------------------------------------------------------------------\u001b[0m",
      "\u001b[0;31mAttributeError\u001b[0m                            Traceback (most recent call last)",
      "Cell \u001b[0;32mIn[51], line 3\u001b[0m\n\u001b[1;32m      1\u001b[0m present_date \u001b[38;5;241m=\u001b[39m datetime\u001b[38;5;241m.\u001b[39mnow()\n\u001b[1;32m      2\u001b[0m start_time \u001b[38;5;241m=\u001b[39m datetime(\u001b[38;5;241m2021\u001b[39m, \u001b[38;5;241m9\u001b[39m, \u001b[38;5;241m19\u001b[39m, \u001b[38;5;241m12\u001b[39m, \u001b[38;5;241m43\u001b[39m, \u001b[38;5;241m56\u001b[39m)\n\u001b[0;32m----> 3\u001b[0m start \u001b[38;5;241m=\u001b[39m time\u001b[38;5;241m.\u001b[39mmktime(start_time\u001b[38;5;241m.\u001b[39mtimetuple())\n\u001b[1;32m      4\u001b[0m unix_timestamp_present \u001b[38;5;241m=\u001b[39m datetime\u001b[38;5;241m.\u001b[39mtimestamp(present_date)\n\u001b[1;32m      5\u001b[0m op \u001b[38;5;241m=\u001b[39m unix_timestamp \u001b[38;5;241m-\u001b[39m start \n",
      "\u001b[0;31mAttributeError\u001b[0m: type object 'datetime.time' has no attribute 'mktime'"
     ]
    }
   ],
   "source": [
    "present_date = datetime.now()\n",
    "start_time = datetime(2021, 9, 19, 12, 43, 56)\n",
    "start = time.mktime(start_time.timetuple())\n",
    "unix_timestamp_present = datetime.timestamp(present_date)\n",
    "op = unix_timestamp - start \n",
    "print(op)"
   ]
  },
  {
   "cell_type": "code",
   "execution_count": 52,
   "id": "cb59ea92",
   "metadata": {},
   "outputs": [
    {
     "ename": "SyntaxError",
     "evalue": "non-default argument follows default argument (1020278560.py, line 1)",
     "output_type": "error",
     "traceback": [
      "\u001b[0;36m  Cell \u001b[0;32mIn[52], line 1\u001b[0;36m\u001b[0m\n\u001b[0;31m    def ffgun(a= 5,b,c)\u001b[0m\n\u001b[0m                   ^\u001b[0m\n\u001b[0;31mSyntaxError\u001b[0m\u001b[0;31m:\u001b[0m non-default argument follows default argument\n"
     ]
    }
   ],
   "source": [
    "def ffgun(a,b,c=4)\n",
    "ffgun(a,b,6)\n"
   ]
  },
  {
   "cell_type": "code",
   "execution_count": 56,
   "id": "1fc8308f",
   "metadata": {},
   "outputs": [
    {
     "ename": "SyntaxError",
     "evalue": "incomplete input (3082768527.py, line 1)",
     "output_type": "error",
     "traceback": [
      "\u001b[0;36m  Cell \u001b[0;32mIn[56], line 1\u001b[0;36m\u001b[0m\n\u001b[0;31m    def fun(*nums):\u001b[0m\n\u001b[0m                   ^\u001b[0m\n\u001b[0;31mSyntaxError\u001b[0m\u001b[0;31m:\u001b[0m incomplete input\n"
     ]
    }
   ],
   "source": [
    "def fun(*nums):"
   ]
  },
  {
   "cell_type": "code",
   "execution_count": 89,
   "id": "fde2af7e",
   "metadata": {},
   "outputs": [],
   "source": [
    "x = 1000\n",
    "def factorial(a):\n",
    "    if a >= 10:\n",
    "        print (a)\n",
    "        factorial(a-(0.1*a))\n",
    "    else:\n",
    "        return"
   ]
  },
  {
   "cell_type": "code",
   "execution_count": 90,
   "id": "eeaa1697",
   "metadata": {},
   "outputs": [
    {
     "name": "stdout",
     "output_type": "stream",
     "text": [
      "1000\n",
      "900.0\n",
      "810.0\n",
      "729.0\n",
      "656.1\n",
      "590.49\n",
      "531.441\n",
      "478.29690000000005\n",
      "430.46721\n",
      "387.42048900000003\n",
      "348.67844010000005\n",
      "313.81059609000005\n",
      "282.429536481\n",
      "254.1865828329\n",
      "228.76792454961\n",
      "205.891132094649\n",
      "185.3020188851841\n",
      "166.7718169966657\n",
      "150.09463529699914\n",
      "135.08517176729924\n",
      "121.57665459056932\n",
      "109.41898913151239\n",
      "98.47709021836116\n",
      "88.62938119652503\n",
      "79.76644307687253\n",
      "71.78979876918528\n",
      "64.61081889226675\n",
      "58.14973700304007\n",
      "52.334763302736064\n",
      "47.10128697246246\n",
      "42.39115827521621\n",
      "38.15204244769459\n",
      "34.33683820292513\n",
      "30.903154382632614\n",
      "27.812838944369354\n",
      "25.031555049932418\n",
      "22.528399544939177\n",
      "20.27555959044526\n",
      "18.24800363140073\n",
      "16.423203268260657\n",
      "14.78088294143459\n",
      "13.302794647291131\n",
      "11.972515182562018\n",
      "10.775263664305816\n"
     ]
    }
   ],
   "source": [
    "factorial(x)"
   ]
  },
  {
   "cell_type": "code",
   "execution_count": 1,
   "id": "b59a69b7",
   "metadata": {},
   "outputs": [],
   "source": [
    "class Route:\n",
    "    def __init__(self, route_id, route_name, capacity, cost_per_km):\n",
    "        self.route_id = route_id\n",
    "        self.route_name = route_name\n",
    "        self.capacity = capacity\n",
    "        self.cost_per_km = cost_per_km\n",
    "        self.capacity_available = capacity\n",
    "\n",
    "class Shipment:\n",
    "    def __init__(self, shipment_id, product_type, quantity, distance_km):\n",
    "        self.shipment_id = shipment_id\n",
    "        self.product_type = product_type\n",
    "        self.quantity = quantity\n",
    "        self.distance_km = distance_km\n",
    "        self.cost = 0  # Placeholder for calculated cost\n",
    "\n",
    "class DistributionCenter:\n",
    "    def __init__(self, center_id, center_name, location):\n",
    "        self.center_id = center_id\n",
    "        self.center_name = center_name\n",
    "        self.location = location\n",
    "\n",
    "class LogisticsManager:\n",
    "    def __init__(self, routes, shipments, distribution_centers):\n",
    "        self.routes = [Route(**r) for r in routes]\n",
    "        self.shipments = [Shipment(**s) for s in shipments]\n",
    "        self.distribution_centers = [DistributionCenter(**dc) for dc in distribution_centers]\n",
    "\n",
    "    def calculate_transport_cost(self, route, shipment):\n",
    "        cost = route.cost_per_km * shipment.distance_km\n",
    "        return cost\n",
    "\n",
    "    def check_route_availability(self, route, shipment):\n",
    "        if route.capacity_available >= shipment.quantity:\n",
    "            return True\n",
    "        else:\n",
    "            return False\n",
    "\n",
    "    def optimize_shipments(self):\n",
    "        for shipment in self.shipments:\n",
    "            for route in self.routes:\n",
    "                if self.check_route_availability(route, shipment):\n",
    "                    cost = self.calculate_transport_cost(route, shipment)\n",
    "                    if not shipment.cost or cost < shipment.cost:\n",
    "                        shipment.cost = cost\n",
    "                        shipment.selected_route = route\n",
    "\n",
    "    def display_shipment_schedule(self):\n",
    "        for shipment in self.shipments:\n",
    "            print(f\"Shipment ID {shipment.shipment_id}:\")\n",
    "            print(f\"  Product Type: {shipment.product_type}\")\n",
    "            print(f\"  Quantity: {shipment.quantity}\")\n",
    "            print(f\"  Distance (km): {shipment.distance_km}\")\n",
    "            print(f\"  Selected Route: {shipment.selected_route.route_name}\")\n",
    "            print(f\"  Transportation Cost: {shipment.cost:.2f}\")\n",
    "            print(\"=\" * 40)"
   ]
  },
  {
   "cell_type": "code",
   "execution_count": null,
   "id": "b85b34b6",
   "metadata": {},
   "outputs": [],
   "source": []
  }
 ],
 "metadata": {
  "kernelspec": {
   "display_name": "Python 3 (ipykernel)",
   "language": "python",
   "name": "python3"
  },
  "language_info": {
   "codemirror_mode": {
    "name": "ipython",
    "version": 3
   },
   "file_extension": ".py",
   "mimetype": "text/x-python",
   "name": "python",
   "nbconvert_exporter": "python",
   "pygments_lexer": "ipython3",
   "version": "3.11.4"
  }
 },
 "nbformat": 4,
 "nbformat_minor": 5
}
